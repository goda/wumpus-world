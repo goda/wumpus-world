{
 "cells": [
  {
   "attachments": {},
   "cell_type": "markdown",
   "metadata": {},
   "source": [
    "# Assignment 1\n",
    "\n",
    "This notebook is a brief summary, and instruction on how to run the current code and simulate the game as described in Assignment 1 instructions."
   ]
  },
  {
   "attachments": {},
   "cell_type": "markdown",
   "metadata": {},
   "source": [
    "## Requirements\n",
    "\n",
    "To be able to run this assignment the following is required:\n",
    "\n",
    "* Python 3.11+ (due to use of `Self` annotation for specifying a return of an instance of the same class)"
   ]
  },
  {
   "attachments": {},
   "cell_type": "markdown",
   "metadata": {},
   "source": [
    "## Instructions\n",
    "\n",
    "The code can be run as a simulator, running a simulation of the game with the following default parameters (specified in `/wumpus/__main__.py`):\n",
    "\n",
    "* Grid Size - 4x4\n",
    "* Pit Probability - 0.2\n",
    "* Allow Climb Without Gold - False"
   ]
  },
  {
   "attachments": {},
   "cell_type": "markdown",
   "metadata": {},
   "source": [
    "### Run Simulator"
   ]
  },
  {
   "attachments": {},
   "cell_type": "markdown",
   "metadata": {},
   "source": [
    "To run the simulator, simply open a terminal and navigate to the base folder, and run the following command:\n",
    "\n",
    "`python -m wumpus`\n",
    "\n",
    "If you want to show the board, and other useful information during each agent action/move:\n",
    "\n",
    "`python -m wumpus -v`"
   ]
  },
  {
   "attachments": {},
   "cell_type": "markdown",
   "metadata": {},
   "source": [
    "### Run Unit Tests\n",
    "\n",
    "Some basic unit tests were written during the development of the code. The tests can be found under:\n",
    "\n",
    "`wumpus/src/tests/test.py`\n",
    "\n",
    "The tests can be run using the command:\n",
    "\n",
    "`python -m unittest wumpus/tests/test.py`"
   ]
  },
  {
   "attachments": {},
   "cell_type": "markdown",
   "metadata": {},
   "source": [
    "## Results\n",
    "\n",
    "Here are some screenshots of running the code in few scenarios"
   ]
  },
  {
   "attachments": {},
   "cell_type": "markdown",
   "metadata": {},
   "source": [
    "### Scenario 1 - No Pits, Agent Climbs Out\n",
    "\n",
    "Ran the code changing the pit probability to zero, and ran enough times until `NäiveAgent` was able to climb out of the cave with the gold included"
   ]
  },
  {
   "attachments": {},
   "cell_type": "markdown",
   "metadata": {},
   "source": [
    "![](images/scenario1.png)"
   ]
  },
  {
   "attachments": {},
   "cell_type": "markdown",
   "metadata": {},
   "source": [
    "### Scenario 2 - Pits, Agent Dies\n",
    "\n",
    "Ran the code changing the pit probability to 0.2, and ran until `NäiveAgent` dies"
   ]
  },
  {
   "attachments": {},
   "cell_type": "markdown",
   "metadata": {},
   "source": [
    "![](images/scenario2.png)"
   ]
  },
  {
   "cell_type": "markdown",
   "metadata": {},
   "source": []
  }
 ],
 "metadata": {
  "kernelspec": {
   "display_name": "ai",
   "language": "python",
   "name": "python3"
  },
  "language_info": {
   "name": "python",
   "version": "3.11.0 (main, Jan 16 2023, 08:17:56) [Clang 14.0.6 ]"
  },
  "orig_nbformat": 4,
  "vscode": {
   "interpreter": {
    "hash": "5cf81846a3b2da3e7f8b7c0a0d98720b84888c0a052c8f692d54d85d29d4f26c"
   }
  }
 },
 "nbformat": 4,
 "nbformat_minor": 2
}
